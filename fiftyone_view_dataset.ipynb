{
 "cells": [
  {
   "cell_type": "code",
   "execution_count": 1,
   "id": "9a939558",
   "metadata": {},
   "outputs": [],
   "source": [
    "import fiftyone as fo\n",
    "import fiftyone.utils.coco as fouc"
   ]
  },
  {
   "cell_type": "code",
   "execution_count": 3,
   "id": "a34b0e1e",
   "metadata": {},
   "outputs": [
    {
     "name": "stdout",
     "output_type": "stream",
     "text": [
      " 100% |█████████████████| 101/101 [642.9ms elapsed, 0s remaining, 157.6 samples/s]      \n",
      " 100% |███████████████| 3240/3240 [5.3s elapsed, 0s remaining, 538.8 samples/s]      \n",
      " 100% |█████████████████| 360/360 [560.8ms elapsed, 0s remaining, 644.3 samples/s]      \n",
      " 100% |█████████████████| 435/435 [675.1ms elapsed, 0s remaining, 644.4 samples/s]      \n"
     ]
    }
   ],
   "source": [
    "# load the datasets\n",
    "test_images = fo.Dataset.from_dir(\n",
    "    dataset_dir='./datasets/fullres_test/',\n",
    "    dataset_type=fo.types.COCODetectionDataset,\n",
    "    name='Test Images',\n",
    ")\n",
    "\n",
    "splits = [\"train\", \"val\", \"test\"]\n",
    "dataset = fo.Dataset('640_02')\n",
    "for split in splits:\n",
    "    dataset.add_dir(\n",
    "        dataset_dir='./datasets/640_02/',\n",
    "        dataset_type=fo.types.YOLOv5Dataset,\n",
    "        split=split,\n",
    "        tags=split,\n",
    ")"
   ]
  },
  {
   "cell_type": "code",
   "execution_count": 5,
   "id": "b6d946b2",
   "metadata": {},
   "outputs": [
    {
     "data": {
      "text/html": [
       "\n",
       "        <iframe\n",
       "            width=\"100%\"\n",
       "            height=\"800\"\n",
       "            src=\"http://localhost:5151/?notebook=True&subscription=430da345-cc7a-46dc-9598-121600bbc579\"\n",
       "            frameborder=\"0\"\n",
       "            allowfullscreen\n",
       "            \n",
       "        ></iframe>\n",
       "        "
      ],
      "text/plain": [
       "<IPython.lib.display.IFrame at 0x221d82dafd0>"
      ]
     },
     "metadata": {},
     "output_type": "display_data"
    }
   ],
   "source": [
    "session = fo.launch_app() # http://localhost:5151/"
   ]
  },
  {
   "cell_type": "code",
   "execution_count": 2,
   "id": "97057eba",
   "metadata": {},
   "outputs": [],
   "source": [
    "# delete the datasets\n",
    "dataset_list = fo.list_datasets()\n",
    "for name in dataset_list:\n",
    "    temp = fo.load_dataset(name)\n",
    "    temp.delete()"
   ]
  },
  {
   "cell_type": "code",
   "execution_count": null,
   "id": "526cf8ed",
   "metadata": {},
   "outputs": [],
   "source": []
  }
 ],
 "metadata": {
  "kernelspec": {
   "display_name": "Python 3 (ipykernel)",
   "language": "python",
   "name": "python3"
  },
  "language_info": {
   "codemirror_mode": {
    "name": "ipython",
    "version": 3
   },
   "file_extension": ".py",
   "mimetype": "text/x-python",
   "name": "python",
   "nbconvert_exporter": "python",
   "pygments_lexer": "ipython3",
   "version": "3.9.17"
  }
 },
 "nbformat": 4,
 "nbformat_minor": 5
}

{
 "cells": [
  {
   "cell_type": "code",
   "execution_count": 1,
   "id": "9a939558",
   "metadata": {},
   "outputs": [],
   "source": [
    "import fiftyone as fo\n",
    "import fiftyone.utils.coco as fouc"
   ]
  },
  {
   "cell_type": "code",
   "execution_count": 36,
   "id": "a34b0e1e",
   "metadata": {},
   "outputs": [
    {
     "name": "stdout",
     "output_type": "stream",
     "text": [
      " 100% |█████████████████| 101/101 [518.5ms elapsed, 0s remaining, 195.6 samples/s]      \n",
      " 100% |█████████████████| 435/435 [1.0s elapsed, 0s remaining, 420.4 samples/s]         \n",
      " 100% |███████████████| 3600/3600 [8.2s elapsed, 0s remaining, 398.9 samples/s]      \n"
     ]
    }
   ],
   "source": [
    "# load the datasets\n",
    "test_images = fo.Dataset.from_dir(\n",
    "    dataset_dir='./datasets/test_images/',\n",
    "    dataset_type=fo.types.COCODetectionDataset,\n",
    "    name='Test Images',\n",
    ")\n",
    "test_images_640_02 = fo.Dataset.from_dir(\n",
    "    dataset_dir='./datasets/test_images_640_02/',\n",
    "    dataset_type=fo.types.COCODetectionDataset,\n",
    "    name='Test Images 640_02',\n",
    ")\n",
    "train_images_640_02 = fo.Dataset.from_dir(\n",
    "    dataset_dir='./datasets/train_images_640_02/',\n",
    "    dataset_type=fo.types.COCODetectionDataset,\n",
    "    name='Train Images 640_02',\n",
    ")"
   ]
  },
  {
   "cell_type": "code",
   "execution_count": 21,
   "id": "b6d946b2",
   "metadata": {},
   "outputs": [
    {
     "data": {
      "text/html": [
       "\n",
       "        <iframe\n",
       "            width=\"100%\"\n",
       "            height=\"800\"\n",
       "            src=\"http://localhost:5151/?notebook=True&subscription=c4d206dd-a5b4-49a0-8e35-d447d8d68da7\"\n",
       "            frameborder=\"0\"\n",
       "            allowfullscreen\n",
       "            \n",
       "        ></iframe>\n",
       "        "
      ],
      "text/plain": [
       "<IPython.lib.display.IFrame at 0x25b2d39a370>"
      ]
     },
     "metadata": {},
     "output_type": "display_data"
    }
   ],
   "source": [
    "session = fo.launch_app() # http://localhost:5151/"
   ]
  },
  {
   "cell_type": "code",
   "execution_count": 35,
   "id": "97057eba",
   "metadata": {},
   "outputs": [],
   "source": [
    "# delete the datasets\n",
    "dataset_list = fo.list_datasets()\n",
    "for name in dataset_list:\n",
    "    temp = fo.load_dataset(name)\n",
    "    temp.delete()"
   ]
  },
  {
   "cell_type": "code",
   "execution_count": null,
   "id": "526cf8ed",
   "metadata": {},
   "outputs": [],
   "source": []
  }
 ],
 "metadata": {
  "kernelspec": {
   "display_name": "Python 3 (ipykernel)",
   "language": "python",
   "name": "python3"
  },
  "language_info": {
   "codemirror_mode": {
    "name": "ipython",
    "version": 3
   },
   "file_extension": ".py",
   "mimetype": "text/x-python",
   "name": "python",
   "nbconvert_exporter": "python",
   "pygments_lexer": "ipython3",
   "version": "3.9.17"
  }
 },
 "nbformat": 4,
 "nbformat_minor": 5
}

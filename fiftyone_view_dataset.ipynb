{
 "cells": [
  {
   "cell_type": "code",
   "execution_count": 2,
   "id": "97057eba",
   "metadata": {},
   "outputs": [],
   "source": [
    "### RUN IF NEEDED ###\n",
    "# delete the datasets\n",
    "dataset_list = fo.list_datasets()\n",
    "for name in dataset_list:\n",
    "    temp = fo.load_dataset(name)\n",
    "    temp.delete()"
   ]
  },
  {
   "cell_type": "code",
   "execution_count": null,
   "id": "562847af",
   "metadata": {},
   "outputs": [],
   "source": [
    "### RUN IF NEEDED ###\n",
    "# delete a dataset\n",
    "temp = fo.load_dataset('name')\n",
    "temp.delete()"
   ]
  },
  {
   "cell_type": "markdown",
   "id": "3f86be44",
   "metadata": {},
   "source": [
    "# Start from here"
   ]
  },
  {
   "cell_type": "code",
   "execution_count": 1,
   "id": "9a939558",
   "metadata": {},
   "outputs": [],
   "source": [
    "import fiftyone as fo\n",
    "import fiftyone.utils.coco as fouc"
   ]
  },
  {
   "cell_type": "code",
   "execution_count": 2,
   "id": "a34b0e1e",
   "metadata": {},
   "outputs": [
    {
     "name": "stdout",
     "output_type": "stream",
     "text": [
      " 100% |█████████████████| 101/101 [429.1ms elapsed, 0s remaining, 237.3 samples/s]      \n"
     ]
    }
   ],
   "source": [
    "# load the datasets\n",
    "test_images = fo.Dataset.from_dir(\n",
    "    dataset_dir='./datasets/fullres_test/',\n",
    "    dataset_type=fo.types.COCODetectionDataset,\n",
    "    name='Test Images',\n",
    ")\n",
    "\n",
    "# splits = [\"train\", \"val\", \"test\"]\n",
    "# dataset = fo.Dataset('640_02')\n",
    "# for split in splits:\n",
    "#     dataset.add_dir(\n",
    "#         dataset_dir='./datasets/640_02/',\n",
    "#         dataset_type=fo.types.YOLOv5Dataset,\n",
    "#         split=split,\n",
    "#         tags=split,\n",
    "# )"
   ]
  },
  {
   "cell_type": "markdown",
   "id": "d7ac912c",
   "metadata": {},
   "source": [
    "## Start the Fiftyone App"
   ]
  },
  {
   "cell_type": "code",
   "execution_count": 2,
   "id": "b6d946b2",
   "metadata": {
    "scrolled": true
   },
   "outputs": [
    {
     "data": {
      "text/html": [
       "\n",
       "        <iframe\n",
       "            width=\"100%\"\n",
       "            height=\"800\"\n",
       "            src=\"http://localhost:5151/?notebook=True&subscription=c994b0c8-b418-4690-93ec-dc653d689036\"\n",
       "            frameborder=\"0\"\n",
       "            allowfullscreen\n",
       "            \n",
       "        ></iframe>\n",
       "        "
      ],
      "text/plain": [
       "<IPython.lib.display.IFrame at 0x1a03af9cc40>"
      ]
     },
     "metadata": {},
     "output_type": "display_data"
    }
   ],
   "source": [
    "session = fo.launch_app() # http://localhost:5151/"
   ]
  },
  {
   "cell_type": "markdown",
   "id": "2ab9d914",
   "metadata": {},
   "source": [
    "## Add new prediction results if needed"
   ]
  },
  {
   "cell_type": "code",
   "execution_count": 3,
   "id": "caa26509",
   "metadata": {},
   "outputs": [
    {
     "name": "stdout",
     "output_type": "stream",
     "text": [
      "['100e_16b_auto', '100e_32b_auto', 'yolov8n_100e_0p_32b_Adam_640x640_0.2', 'yolov8n_100e_0p_32b_auto_320x320_0.12', 'yolov8n_100e_0p_32b_auto_512x512_0.07', 'yolov8n_100e_0p_32b_auto_640x640_0.06', 'yolov8n_300e_50p_32b_auto_320x320_0.12', 'yolov8n_300e_50p_32b_auto_512x512_0.07', 'yolov8n_300e_50p_32b_auto_640x640_0.06', 'yolov8n_300e_50p_16b_auto_640x640_0.06', 'yolov8n_300e_50p_16b_auto_512x512_0.07', 'yolov8n_300e_50p_16b_auto_320x320_0.12', 'yolov8n_100e_0p_16b_auto_320x320_0.12', 'yolov8n_100e_0p_16b_auto_640x640_0.06', 'yolov8n_100e_0p_16b_auto_512x512_0.07']\n"
     ]
    }
   ],
   "source": [
    "import os\n",
    "\n",
    "runs = {folder: None for folder in os.listdir(\"runs\")}\n",
    "\n",
    "print(runs)\n"
   ]
  },
  {
   "cell_type": "code",
   "execution_count": 7,
   "id": "526cf8ed",
   "metadata": {},
   "outputs": [],
   "source": [
    "# adding 100e_16b_auto prediction sets\n",
    "dataset = fo.load_dataset('Test Images')\n",
    "fouc.add_coco_labels(\n",
    "    dataset,\n",
    "    '100e_16b_auto_320_02',\n",
    "    './runs/100e_16b_auto/sahi/320_02/result.json',\n",
    "    ['human']\n",
    ")\n",
    "fouc.add_coco_labels(\n",
    "    dataset,\n",
    "    '100e_16b_auto_640_02',\n",
    "    './runs/100e_16b_auto/sahi/640_02/result.json',\n",
    "    ['human']\n",
    ")\n",
    "fouc.add_coco_labels(\n",
    "    dataset,\n",
    "    '100e_16b_auto_960_02',\n",
    "    './runs/100e_16b_auto/sahi/960_02/result.json',\n",
    "    ['human']\n",
    ")\n",
    "fouc.add_coco_labels(\n",
    "    dataset,\n",
    "    '100e_16b_auto_1280_02',\n",
    "    './runs/100e_16b_auto/sahi/1280_02/result.json',\n",
    "    ['human']\n",
    ")"
   ]
  },
  {
   "cell_type": "markdown",
   "id": "4889e640",
   "metadata": {},
   "source": [
    "## Evaluation Results Here"
   ]
  },
  {
   "cell_type": "code",
   "execution_count": 3,
   "id": "cef461e5",
   "metadata": {},
   "outputs": [],
   "source": [
    "dataset = fo.load_dataset('Test Images')"
   ]
  },
  {
   "cell_type": "markdown",
   "id": "bf308280",
   "metadata": {},
   "source": [
    "### 100e_16b_auto prediction sets"
   ]
  },
  {
   "cell_type": "code",
   "execution_count": 9,
   "id": "e08445ab",
   "metadata": {},
   "outputs": [
    {
     "name": "stdout",
     "output_type": "stream",
     "text": [
      "<==========> 100e_16b_auto_320_02 evaluation <==========>\n",
      "Evaluating detections...\n",
      " 100% |█████████████████| 101/101 [1.2s elapsed, 0s remaining, 88.0 samples/s]          \n",
      "Evaluating detections...\n",
      " 100% |█████████████████| 101/101 [1.3s elapsed, 0s remaining, 73.2 samples/s]         \n",
      "\t\t########## 0.5 IoU ##########\n",
      "              precision    recall  f1-score   support\n",
      "\n",
      "       human       0.48      0.76      0.59       337\n",
      "\n",
      "   micro avg       0.48      0.76      0.59       337\n",
      "   macro avg       0.48      0.76      0.59       337\n",
      "weighted avg       0.48      0.76      0.59       337\n",
      "\n"
     ]
    },
    {
     "data": {
      "text/plain": []
     },
     "metadata": {},
     "output_type": "display_data"
    },
    {
     "data": {
      "text/plain": []
     },
     "metadata": {},
     "output_type": "display_data"
    },
    {
     "data": {
      "application/vnd.jupyter.widget-view+json": {
       "model_id": "baa3ee84e19045598c7a1b40a9706a25",
       "version_major": 2,
       "version_minor": 0
      },
      "text/plain": [
       "FigureWidget({\n",
       "    'data': [{'mode': 'markers',\n",
       "              'opacity': 0.1,\n",
       "              'type': 'scatter',\n",
       "              'uid': 'e2a448e8-09e1-4762-aad4-aaa98e69f1ff',\n",
       "              'x': array([0, 1, 0, 1]),\n",
       "              'y': array([0, 0, 1, 1])},\n",
       "             {'colorscale': [[0.0, 'rgb(255,245,235)'], [0.125,\n",
       "                             'rgb(254,230,206)'], [0.25, 'rgb(253,208,162)'],\n",
       "                             [0.375, 'rgb(253,174,107)'], [0.5, 'rgb(253,141,60)'],\n",
       "                             [0.625, 'rgb(241,105,19)'], [0.75, 'rgb(217,72,1)'],\n",
       "                             [0.875, 'rgb(166,54,3)'], [1.0, 'rgb(127,39,4)']],\n",
       "              'hoverinfo': 'skip',\n",
       "              'showscale': False,\n",
       "              'type': 'heatmap',\n",
       "              'uid': '801b2855-c540-4260-a123-28f36d965a0c',\n",
       "              'z': array([[274,   0],\n",
       "                          [255,  82]], dtype=int64),\n",
       "              'zmax': 274,\n",
       "              'zmin': 0},\n",
       "             {'colorbar': {'len': 1, 'lenmode': 'fraction'},\n",
       "              'colorscale': [[0.0, 'rgb(255,245,235)'], [0.125,\n",
       "                             'rgb(254,230,206)'], [0.25, 'rgb(253,208,162)'],\n",
       "                             [0.375, 'rgb(253,174,107)'], [0.5, 'rgb(253,141,60)'],\n",
       "                             [0.625, 'rgb(241,105,19)'], [0.75, 'rgb(217,72,1)'],\n",
       "                             [0.875, 'rgb(166,54,3)'], [1.0, 'rgb(127,39,4)']],\n",
       "              'hovertemplate': '<b>count: %{z}</b><br>truth: %{y}<br>predicted: %{x}<extra></extra>',\n",
       "              'opacity': 0.25,\n",
       "              'type': 'heatmap',\n",
       "              'uid': '5fa9d422-4879-437d-901c-238e75e378e2',\n",
       "              'z': array([[274,   0],\n",
       "                          [255,  82]], dtype=int64),\n",
       "              'zmax': 274,\n",
       "              'zmin': 0}],\n",
       "    'layout': {'clickmode': 'event',\n",
       "               'margin': {'b': 0, 'l': 0, 'r': 0, 't': 30},\n",
       "               'template': '...',\n",
       "               'title': {},\n",
       "               'xaxis': {'constrain': 'domain',\n",
       "                         'range': [-0.5, 1.5],\n",
       "                         'tickmode': 'array',\n",
       "                         'ticktext': [human, (none)],\n",
       "                         'tickvals': array([0, 1])},\n",
       "               'yaxis': {'constrain': 'domain',\n",
       "                         'range': [-0.5, 1.5],\n",
       "                         'scaleanchor': 'x',\n",
       "                         'scaleratio': 1,\n",
       "                         'tickmode': 'array',\n",
       "                         'ticktext': array(['(none)', 'human'], dtype=object),\n",
       "                         'tickvals': array([0, 1])}}\n",
       "})"
      ]
     },
     "metadata": {},
     "output_type": "display_data"
    },
    {
     "name": "stdout",
     "output_type": "stream",
     "text": [
      "\t\t########## 0.1 IoU ##########\n",
      "              precision    recall  f1-score   support\n",
      "\n",
      "       human       0.52      0.82      0.64       337\n",
      "\n",
      "   micro avg       0.52      0.82      0.64       337\n",
      "   macro avg       0.52      0.82      0.64       337\n",
      "weighted avg       0.52      0.82      0.64       337\n",
      "\n"
     ]
    },
    {
     "data": {
      "text/plain": []
     },
     "metadata": {},
     "output_type": "display_data"
    },
    {
     "data": {
      "text/plain": []
     },
     "metadata": {},
     "output_type": "display_data"
    },
    {
     "data": {
      "application/vnd.jupyter.widget-view+json": {
       "model_id": "9cdb1c0a99db460fa91b8557e8722fe5",
       "version_major": 2,
       "version_minor": 0
      },
      "text/plain": [
       "FigureWidget({\n",
       "    'data': [{'mode': 'markers',\n",
       "              'opacity': 0.1,\n",
       "              'type': 'scatter',\n",
       "              'uid': 'ae28c63d-169f-4432-bc55-56baadcbc9be',\n",
       "              'x': array([0, 1, 0, 1]),\n",
       "              'y': array([0, 0, 1, 1])},\n",
       "             {'colorscale': [[0.0, 'rgb(255,245,235)'], [0.125,\n",
       "                             'rgb(254,230,206)'], [0.25, 'rgb(253,208,162)'],\n",
       "                             [0.375, 'rgb(253,174,107)'], [0.5, 'rgb(253,141,60)'],\n",
       "                             [0.625, 'rgb(241,105,19)'], [0.75, 'rgb(217,72,1)'],\n",
       "                             [0.875, 'rgb(166,54,3)'], [1.0, 'rgb(127,39,4)']],\n",
       "              'hoverinfo': 'skip',\n",
       "              'showscale': False,\n",
       "              'type': 'heatmap',\n",
       "              'uid': 'fc9a83a7-af97-4f75-9769-6e338d3d0807',\n",
       "              'z': array([[253,   0],\n",
       "                          [276,  61]], dtype=int64),\n",
       "              'zmax': 276,\n",
       "              'zmin': 0},\n",
       "             {'colorbar': {'len': 1, 'lenmode': 'fraction'},\n",
       "              'colorscale': [[0.0, 'rgb(255,245,235)'], [0.125,\n",
       "                             'rgb(254,230,206)'], [0.25, 'rgb(253,208,162)'],\n",
       "                             [0.375, 'rgb(253,174,107)'], [0.5, 'rgb(253,141,60)'],\n",
       "                             [0.625, 'rgb(241,105,19)'], [0.75, 'rgb(217,72,1)'],\n",
       "                             [0.875, 'rgb(166,54,3)'], [1.0, 'rgb(127,39,4)']],\n",
       "              'hovertemplate': '<b>count: %{z}</b><br>truth: %{y}<br>predicted: %{x}<extra></extra>',\n",
       "              'opacity': 0.25,\n",
       "              'type': 'heatmap',\n",
       "              'uid': 'ca9ef931-b7bf-4e51-88d4-8200a3a66f91',\n",
       "              'z': array([[253,   0],\n",
       "                          [276,  61]], dtype=int64),\n",
       "              'zmax': 276,\n",
       "              'zmin': 0}],\n",
       "    'layout': {'clickmode': 'event',\n",
       "               'margin': {'b': 0, 'l': 0, 'r': 0, 't': 30},\n",
       "               'template': '...',\n",
       "               'title': {},\n",
       "               'xaxis': {'constrain': 'domain',\n",
       "                         'range': [-0.5, 1.5],\n",
       "                         'tickmode': 'array',\n",
       "                         'ticktext': [human, (none)],\n",
       "                         'tickvals': array([0, 1])},\n",
       "               'yaxis': {'constrain': 'domain',\n",
       "                         'range': [-0.5, 1.5],\n",
       "                         'scaleanchor': 'x',\n",
       "                         'scaleratio': 1,\n",
       "                         'tickmode': 'array',\n",
       "                         'ticktext': array(['(none)', 'human'], dtype=object),\n",
       "                         'tickvals': array([0, 1])}}\n",
       "})"
      ]
     },
     "metadata": {},
     "output_type": "display_data"
    }
   ],
   "source": [
    "print(\"<==========> 100e_16b_auto_320_02 evaluation <==========>\")\n",
    "results1 = dataset.evaluate_detections(\n",
    "    \"100e_16b_auto_320_02\",\n",
    "    gt_field=\"detections\",\n",
    "    iou=0.5\n",
    ")\n",
    "results2 = dataset.evaluate_detections(\n",
    "    \"100e_16b_auto_320_02\",\n",
    "    gt_field=\"detections\",\n",
    "    iou=0.1\n",
    ")\n",
    "plot1 = results1.plot_confusion_matrix()\n",
    "plot2 = results2.plot_confusion_matrix()\n",
    "\n",
    "print(\"\\t\\t########## 0.5 IoU ##########\")\n",
    "results1.print_report()\n",
    "plot1.show()\n",
    "print(\"\\t\\t########## 0.1 IoU ##########\")\n",
    "results2.print_report()\n",
    "plot2.show()"
   ]
  },
  {
   "cell_type": "code",
   "execution_count": 10,
   "id": "4a7c5bd7",
   "metadata": {},
   "outputs": [
    {
     "name": "stdout",
     "output_type": "stream",
     "text": [
      "<==========> 100e_16b_auto_640_02 evaluation <==========>\n",
      "Evaluating detections...\n",
      " 100% |█████████████████| 101/101 [851.1ms elapsed, 0s remaining, 118.7 samples/s]      \n",
      "Evaluating detections...\n",
      " 100% |█████████████████| 101/101 [851.4ms elapsed, 0s remaining, 118.6 samples/s]      \n",
      "\t\t########## 0.5 IoU ##########\n",
      "              precision    recall  f1-score   support\n",
      "\n",
      "       human       0.82      0.85      0.83       337\n",
      "\n",
      "   micro avg       0.82      0.85      0.83       337\n",
      "   macro avg       0.82      0.85      0.83       337\n",
      "weighted avg       0.82      0.85      0.83       337\n",
      "\n"
     ]
    },
    {
     "data": {
      "text/plain": []
     },
     "metadata": {},
     "output_type": "display_data"
    },
    {
     "data": {
      "text/plain": []
     },
     "metadata": {},
     "output_type": "display_data"
    },
    {
     "data": {
      "application/vnd.jupyter.widget-view+json": {
       "model_id": "4cefa8e093db4e6dbead1ac84ea1d6b7",
       "version_major": 2,
       "version_minor": 0
      },
      "text/plain": [
       "FigureWidget({\n",
       "    'data': [{'mode': 'markers',\n",
       "              'opacity': 0.1,\n",
       "              'type': 'scatter',\n",
       "              'uid': '7b61749b-1399-4b0f-b39a-0d61da1c5baa',\n",
       "              'x': array([0, 1, 0, 1]),\n",
       "              'y': array([0, 0, 1, 1])},\n",
       "             {'colorscale': [[0.0, 'rgb(255,245,235)'], [0.125,\n",
       "                             'rgb(254,230,206)'], [0.25, 'rgb(253,208,162)'],\n",
       "                             [0.375, 'rgb(253,174,107)'], [0.5, 'rgb(253,141,60)'],\n",
       "                             [0.625, 'rgb(241,105,19)'], [0.75, 'rgb(217,72,1)'],\n",
       "                             [0.875, 'rgb(166,54,3)'], [1.0, 'rgb(127,39,4)']],\n",
       "              'hoverinfo': 'skip',\n",
       "              'showscale': False,\n",
       "              'type': 'heatmap',\n",
       "              'uid': '26665e2b-6ca5-4c20-bfc3-27577876b9d1',\n",
       "              'z': array([[ 65,   0],\n",
       "                          [287,  50]], dtype=int64),\n",
       "              'zmax': 287,\n",
       "              'zmin': 0},\n",
       "             {'colorbar': {'len': 1, 'lenmode': 'fraction'},\n",
       "              'colorscale': [[0.0, 'rgb(255,245,235)'], [0.125,\n",
       "                             'rgb(254,230,206)'], [0.25, 'rgb(253,208,162)'],\n",
       "                             [0.375, 'rgb(253,174,107)'], [0.5, 'rgb(253,141,60)'],\n",
       "                             [0.625, 'rgb(241,105,19)'], [0.75, 'rgb(217,72,1)'],\n",
       "                             [0.875, 'rgb(166,54,3)'], [1.0, 'rgb(127,39,4)']],\n",
       "              'hovertemplate': '<b>count: %{z}</b><br>truth: %{y}<br>predicted: %{x}<extra></extra>',\n",
       "              'opacity': 0.25,\n",
       "              'type': 'heatmap',\n",
       "              'uid': '99f3382c-d935-402b-a160-4ca94bfdc1f1',\n",
       "              'z': array([[ 65,   0],\n",
       "                          [287,  50]], dtype=int64),\n",
       "              'zmax': 287,\n",
       "              'zmin': 0}],\n",
       "    'layout': {'clickmode': 'event',\n",
       "               'margin': {'b': 0, 'l': 0, 'r': 0, 't': 30},\n",
       "               'template': '...',\n",
       "               'title': {},\n",
       "               'xaxis': {'constrain': 'domain',\n",
       "                         'range': [-0.5, 1.5],\n",
       "                         'tickmode': 'array',\n",
       "                         'ticktext': [human, (none)],\n",
       "                         'tickvals': array([0, 1])},\n",
       "               'yaxis': {'constrain': 'domain',\n",
       "                         'range': [-0.5, 1.5],\n",
       "                         'scaleanchor': 'x',\n",
       "                         'scaleratio': 1,\n",
       "                         'tickmode': 'array',\n",
       "                         'ticktext': array(['(none)', 'human'], dtype=object),\n",
       "                         'tickvals': array([0, 1])}}\n",
       "})"
      ]
     },
     "metadata": {},
     "output_type": "display_data"
    },
    {
     "name": "stdout",
     "output_type": "stream",
     "text": [
      "\t\t########## 0.1 IoU ##########\n",
      "              precision    recall  f1-score   support\n",
      "\n",
      "       human       0.84      0.88      0.86       337\n",
      "\n",
      "   micro avg       0.84      0.88      0.86       337\n",
      "   macro avg       0.84      0.88      0.86       337\n",
      "weighted avg       0.84      0.88      0.86       337\n",
      "\n"
     ]
    },
    {
     "data": {
      "text/plain": []
     },
     "metadata": {},
     "output_type": "display_data"
    },
    {
     "data": {
      "text/plain": []
     },
     "metadata": {},
     "output_type": "display_data"
    },
    {
     "data": {
      "application/vnd.jupyter.widget-view+json": {
       "model_id": "a17dd5a6ff9d4e298aeb72cfccc517ac",
       "version_major": 2,
       "version_minor": 0
      },
      "text/plain": [
       "FigureWidget({\n",
       "    'data': [{'mode': 'markers',\n",
       "              'opacity': 0.1,\n",
       "              'type': 'scatter',\n",
       "              'uid': 'abfaf85f-3bfa-4422-ac00-71eb277f852b',\n",
       "              'x': array([0, 1, 0, 1]),\n",
       "              'y': array([0, 0, 1, 1])},\n",
       "             {'colorscale': [[0.0, 'rgb(255,245,235)'], [0.125,\n",
       "                             'rgb(254,230,206)'], [0.25, 'rgb(253,208,162)'],\n",
       "                             [0.375, 'rgb(253,174,107)'], [0.5, 'rgb(253,141,60)'],\n",
       "                             [0.625, 'rgb(241,105,19)'], [0.75, 'rgb(217,72,1)'],\n",
       "                             [0.875, 'rgb(166,54,3)'], [1.0, 'rgb(127,39,4)']],\n",
       "              'hoverinfo': 'skip',\n",
       "              'showscale': False,\n",
       "              'type': 'heatmap',\n",
       "              'uid': 'c5de3bd0-9b4b-49f2-8b99-442c504232aa',\n",
       "              'z': array([[ 57,   0],\n",
       "                          [295,  42]], dtype=int64),\n",
       "              'zmax': 295,\n",
       "              'zmin': 0},\n",
       "             {'colorbar': {'len': 1, 'lenmode': 'fraction'},\n",
       "              'colorscale': [[0.0, 'rgb(255,245,235)'], [0.125,\n",
       "                             'rgb(254,230,206)'], [0.25, 'rgb(253,208,162)'],\n",
       "                             [0.375, 'rgb(253,174,107)'], [0.5, 'rgb(253,141,60)'],\n",
       "                             [0.625, 'rgb(241,105,19)'], [0.75, 'rgb(217,72,1)'],\n",
       "                             [0.875, 'rgb(166,54,3)'], [1.0, 'rgb(127,39,4)']],\n",
       "              'hovertemplate': '<b>count: %{z}</b><br>truth: %{y}<br>predicted: %{x}<extra></extra>',\n",
       "              'opacity': 0.25,\n",
       "              'type': 'heatmap',\n",
       "              'uid': 'f337fc42-d450-46d6-8fb7-111d9079873c',\n",
       "              'z': array([[ 57,   0],\n",
       "                          [295,  42]], dtype=int64),\n",
       "              'zmax': 295,\n",
       "              'zmin': 0}],\n",
       "    'layout': {'clickmode': 'event',\n",
       "               'margin': {'b': 0, 'l': 0, 'r': 0, 't': 30},\n",
       "               'template': '...',\n",
       "               'title': {},\n",
       "               'xaxis': {'constrain': 'domain',\n",
       "                         'range': [-0.5, 1.5],\n",
       "                         'tickmode': 'array',\n",
       "                         'ticktext': [human, (none)],\n",
       "                         'tickvals': array([0, 1])},\n",
       "               'yaxis': {'constrain': 'domain',\n",
       "                         'range': [-0.5, 1.5],\n",
       "                         'scaleanchor': 'x',\n",
       "                         'scaleratio': 1,\n",
       "                         'tickmode': 'array',\n",
       "                         'ticktext': array(['(none)', 'human'], dtype=object),\n",
       "                         'tickvals': array([0, 1])}}\n",
       "})"
      ]
     },
     "metadata": {},
     "output_type": "display_data"
    }
   ],
   "source": [
    "print(\"<==========> 100e_16b_auto_640_02 evaluation <==========>\")\n",
    "results1 = dataset.evaluate_detections(\n",
    "    \"100e_16b_auto_640_02\",\n",
    "    gt_field=\"detections\",\n",
    "    iou=0.5\n",
    ")\n",
    "results2 = dataset.evaluate_detections(\n",
    "    \"100e_16b_auto_640_02\",\n",
    "    gt_field=\"detections\",\n",
    "    iou=0.1\n",
    ")\n",
    "plot1 = results1.plot_confusion_matrix()\n",
    "plot2 = results2.plot_confusion_matrix()\n",
    "\n",
    "print(\"\\t\\t########## 0.5 IoU ##########\")\n",
    "results1.print_report()\n",
    "plot1.show()\n",
    "print(\"\\t\\t########## 0.1 IoU ##########\")\n",
    "results2.print_report()\n",
    "plot2.show()"
   ]
  },
  {
   "cell_type": "code",
   "execution_count": 11,
   "id": "15144af0",
   "metadata": {},
   "outputs": [
    {
     "name": "stdout",
     "output_type": "stream",
     "text": [
      "<==========> 100e_16b_auto_960_02 evaluation <==========>\n",
      "Evaluating detections...\n",
      " 100% |█████████████████| 101/101 [815.3ms elapsed, 0s remaining, 123.9 samples/s]      \n",
      "Evaluating detections...\n",
      " 100% |█████████████████| 101/101 [844.5ms elapsed, 0s remaining, 119.6 samples/s]      \n",
      "\t\t########## 0.5 IoU ##########\n",
      "              precision    recall  f1-score   support\n",
      "\n",
      "       human       0.87      0.80      0.83       337\n",
      "\n",
      "   micro avg       0.87      0.80      0.83       337\n",
      "   macro avg       0.87      0.80      0.83       337\n",
      "weighted avg       0.87      0.80      0.83       337\n",
      "\n"
     ]
    },
    {
     "data": {
      "text/plain": []
     },
     "metadata": {},
     "output_type": "display_data"
    },
    {
     "data": {
      "text/plain": []
     },
     "metadata": {},
     "output_type": "display_data"
    },
    {
     "data": {
      "application/vnd.jupyter.widget-view+json": {
       "model_id": "6dda340c01bc4f4bbde09477527bdc96",
       "version_major": 2,
       "version_minor": 0
      },
      "text/plain": [
       "FigureWidget({\n",
       "    'data': [{'mode': 'markers',\n",
       "              'opacity': 0.1,\n",
       "              'type': 'scatter',\n",
       "              'uid': '16aed7bb-bab0-4078-b489-eae21853f81b',\n",
       "              'x': array([0, 1, 0, 1]),\n",
       "              'y': array([0, 0, 1, 1])},\n",
       "             {'colorscale': [[0.0, 'rgb(255,245,235)'], [0.125,\n",
       "                             'rgb(254,230,206)'], [0.25, 'rgb(253,208,162)'],\n",
       "                             [0.375, 'rgb(253,174,107)'], [0.5, 'rgb(253,141,60)'],\n",
       "                             [0.625, 'rgb(241,105,19)'], [0.75, 'rgb(217,72,1)'],\n",
       "                             [0.875, 'rgb(166,54,3)'], [1.0, 'rgb(127,39,4)']],\n",
       "              'hoverinfo': 'skip',\n",
       "              'showscale': False,\n",
       "              'type': 'heatmap',\n",
       "              'uid': '5536bd97-4d18-443a-9c8c-7ffad40219f1',\n",
       "              'z': array([[ 39,   0],\n",
       "                          [268,  69]], dtype=int64),\n",
       "              'zmax': 268,\n",
       "              'zmin': 0},\n",
       "             {'colorbar': {'len': 1, 'lenmode': 'fraction'},\n",
       "              'colorscale': [[0.0, 'rgb(255,245,235)'], [0.125,\n",
       "                             'rgb(254,230,206)'], [0.25, 'rgb(253,208,162)'],\n",
       "                             [0.375, 'rgb(253,174,107)'], [0.5, 'rgb(253,141,60)'],\n",
       "                             [0.625, 'rgb(241,105,19)'], [0.75, 'rgb(217,72,1)'],\n",
       "                             [0.875, 'rgb(166,54,3)'], [1.0, 'rgb(127,39,4)']],\n",
       "              'hovertemplate': '<b>count: %{z}</b><br>truth: %{y}<br>predicted: %{x}<extra></extra>',\n",
       "              'opacity': 0.25,\n",
       "              'type': 'heatmap',\n",
       "              'uid': '432a79f5-5246-47f1-872e-d44b143b02df',\n",
       "              'z': array([[ 39,   0],\n",
       "                          [268,  69]], dtype=int64),\n",
       "              'zmax': 268,\n",
       "              'zmin': 0}],\n",
       "    'layout': {'clickmode': 'event',\n",
       "               'margin': {'b': 0, 'l': 0, 'r': 0, 't': 30},\n",
       "               'template': '...',\n",
       "               'title': {},\n",
       "               'xaxis': {'constrain': 'domain',\n",
       "                         'range': [-0.5, 1.5],\n",
       "                         'tickmode': 'array',\n",
       "                         'ticktext': [human, (none)],\n",
       "                         'tickvals': array([0, 1])},\n",
       "               'yaxis': {'constrain': 'domain',\n",
       "                         'range': [-0.5, 1.5],\n",
       "                         'scaleanchor': 'x',\n",
       "                         'scaleratio': 1,\n",
       "                         'tickmode': 'array',\n",
       "                         'ticktext': array(['(none)', 'human'], dtype=object),\n",
       "                         'tickvals': array([0, 1])}}\n",
       "})"
      ]
     },
     "metadata": {},
     "output_type": "display_data"
    },
    {
     "name": "stdout",
     "output_type": "stream",
     "text": [
      "\t\t########## 0.1 IoU ##########\n",
      "              precision    recall  f1-score   support\n",
      "\n",
      "       human       0.89      0.81      0.85       337\n",
      "\n",
      "   micro avg       0.89      0.81      0.85       337\n",
      "   macro avg       0.89      0.81      0.85       337\n",
      "weighted avg       0.89      0.81      0.85       337\n",
      "\n"
     ]
    },
    {
     "data": {
      "text/plain": []
     },
     "metadata": {},
     "output_type": "display_data"
    },
    {
     "data": {
      "text/plain": []
     },
     "metadata": {},
     "output_type": "display_data"
    },
    {
     "data": {
      "application/vnd.jupyter.widget-view+json": {
       "model_id": "4135dc33c79449f5871b6350a2df0eab",
       "version_major": 2,
       "version_minor": 0
      },
      "text/plain": [
       "FigureWidget({\n",
       "    'data': [{'mode': 'markers',\n",
       "              'opacity': 0.1,\n",
       "              'type': 'scatter',\n",
       "              'uid': '0375403c-d346-4dcb-805e-d8b4d3195fb5',\n",
       "              'x': array([0, 1, 0, 1]),\n",
       "              'y': array([0, 0, 1, 1])},\n",
       "             {'colorscale': [[0.0, 'rgb(255,245,235)'], [0.125,\n",
       "                             'rgb(254,230,206)'], [0.25, 'rgb(253,208,162)'],\n",
       "                             [0.375, 'rgb(253,174,107)'], [0.5, 'rgb(253,141,60)'],\n",
       "                             [0.625, 'rgb(241,105,19)'], [0.75, 'rgb(217,72,1)'],\n",
       "                             [0.875, 'rgb(166,54,3)'], [1.0, 'rgb(127,39,4)']],\n",
       "              'hoverinfo': 'skip',\n",
       "              'showscale': False,\n",
       "              'type': 'heatmap',\n",
       "              'uid': '212d9386-72f4-4509-8427-a32112244b41',\n",
       "              'z': array([[ 33,   0],\n",
       "                          [274,  63]], dtype=int64),\n",
       "              'zmax': 274,\n",
       "              'zmin': 0},\n",
       "             {'colorbar': {'len': 1, 'lenmode': 'fraction'},\n",
       "              'colorscale': [[0.0, 'rgb(255,245,235)'], [0.125,\n",
       "                             'rgb(254,230,206)'], [0.25, 'rgb(253,208,162)'],\n",
       "                             [0.375, 'rgb(253,174,107)'], [0.5, 'rgb(253,141,60)'],\n",
       "                             [0.625, 'rgb(241,105,19)'], [0.75, 'rgb(217,72,1)'],\n",
       "                             [0.875, 'rgb(166,54,3)'], [1.0, 'rgb(127,39,4)']],\n",
       "              'hovertemplate': '<b>count: %{z}</b><br>truth: %{y}<br>predicted: %{x}<extra></extra>',\n",
       "              'opacity': 0.25,\n",
       "              'type': 'heatmap',\n",
       "              'uid': '4cb36e22-5493-43a7-881a-dc697222bda9',\n",
       "              'z': array([[ 33,   0],\n",
       "                          [274,  63]], dtype=int64),\n",
       "              'zmax': 274,\n",
       "              'zmin': 0}],\n",
       "    'layout': {'clickmode': 'event',\n",
       "               'margin': {'b': 0, 'l': 0, 'r': 0, 't': 30},\n",
       "               'template': '...',\n",
       "               'title': {},\n",
       "               'xaxis': {'constrain': 'domain',\n",
       "                         'range': [-0.5, 1.5],\n",
       "                         'tickmode': 'array',\n",
       "                         'ticktext': [human, (none)],\n",
       "                         'tickvals': array([0, 1])},\n",
       "               'yaxis': {'constrain': 'domain',\n",
       "                         'range': [-0.5, 1.5],\n",
       "                         'scaleanchor': 'x',\n",
       "                         'scaleratio': 1,\n",
       "                         'tickmode': 'array',\n",
       "                         'ticktext': array(['(none)', 'human'], dtype=object),\n",
       "                         'tickvals': array([0, 1])}}\n",
       "})"
      ]
     },
     "metadata": {},
     "output_type": "display_data"
    }
   ],
   "source": [
    "print(\"<==========> 100e_16b_auto_960_02 evaluation <==========>\")\n",
    "results1 = dataset.evaluate_detections(\n",
    "    \"100e_16b_auto_960_02\",\n",
    "    gt_field=\"detections\",\n",
    "    iou=0.5\n",
    ")\n",
    "results2 = dataset.evaluate_detections(\n",
    "    \"100e_16b_auto_960_02\",\n",
    "    gt_field=\"detections\",\n",
    "    iou=0.1\n",
    ")\n",
    "plot1 = results1.plot_confusion_matrix()\n",
    "plot2 = results2.plot_confusion_matrix()\n",
    "\n",
    "print(\"\\t\\t########## 0.5 IoU ##########\")\n",
    "results1.print_report()\n",
    "plot1.show()\n",
    "print(\"\\t\\t########## 0.1 IoU ##########\")\n",
    "results2.print_report()\n",
    "plot2.show()"
   ]
  },
  {
   "cell_type": "code",
   "execution_count": 12,
   "id": "fcb645b3",
   "metadata": {},
   "outputs": [
    {
     "name": "stdout",
     "output_type": "stream",
     "text": [
      "<==========> 100e_16b_auto_1280_02 evaluation <==========>\n",
      "Evaluating detections...\n",
      " 100% |█████████████████| 101/101 [765.0ms elapsed, 0s remaining, 132.0 samples/s]      \n",
      "Evaluating detections...\n",
      " 100% |█████████████████| 101/101 [834.5ms elapsed, 0s remaining, 121.0 samples/s]      \n",
      "\t\t########## 0.5 IoU ##########\n",
      "              precision    recall  f1-score   support\n",
      "\n",
      "       human       0.86      0.68      0.76       337\n",
      "\n",
      "   micro avg       0.86      0.68      0.76       337\n",
      "   macro avg       0.86      0.68      0.76       337\n",
      "weighted avg       0.86      0.68      0.76       337\n",
      "\n"
     ]
    },
    {
     "data": {
      "text/plain": []
     },
     "metadata": {},
     "output_type": "display_data"
    },
    {
     "data": {
      "text/plain": []
     },
     "metadata": {},
     "output_type": "display_data"
    },
    {
     "data": {
      "application/vnd.jupyter.widget-view+json": {
       "model_id": "5ad74a1644dd4acbbc4b1d19063c7978",
       "version_major": 2,
       "version_minor": 0
      },
      "text/plain": [
       "FigureWidget({\n",
       "    'data': [{'mode': 'markers',\n",
       "              'opacity': 0.1,\n",
       "              'type': 'scatter',\n",
       "              'uid': '5416571f-194e-4245-a7a2-2312ea60e4db',\n",
       "              'x': array([0, 1, 0, 1]),\n",
       "              'y': array([0, 0, 1, 1])},\n",
       "             {'colorscale': [[0.0, 'rgb(255,245,235)'], [0.125,\n",
       "                             'rgb(254,230,206)'], [0.25, 'rgb(253,208,162)'],\n",
       "                             [0.375, 'rgb(253,174,107)'], [0.5, 'rgb(253,141,60)'],\n",
       "                             [0.625, 'rgb(241,105,19)'], [0.75, 'rgb(217,72,1)'],\n",
       "                             [0.875, 'rgb(166,54,3)'], [1.0, 'rgb(127,39,4)']],\n",
       "              'hoverinfo': 'skip',\n",
       "              'showscale': False,\n",
       "              'type': 'heatmap',\n",
       "              'uid': 'bc9408fa-9d95-453b-ad5f-0969d2eb481a',\n",
       "              'z': array([[ 36,   0],\n",
       "                          [229, 108]], dtype=int64),\n",
       "              'zmax': 229,\n",
       "              'zmin': 0},\n",
       "             {'colorbar': {'len': 1, 'lenmode': 'fraction'},\n",
       "              'colorscale': [[0.0, 'rgb(255,245,235)'], [0.125,\n",
       "                             'rgb(254,230,206)'], [0.25, 'rgb(253,208,162)'],\n",
       "                             [0.375, 'rgb(253,174,107)'], [0.5, 'rgb(253,141,60)'],\n",
       "                             [0.625, 'rgb(241,105,19)'], [0.75, 'rgb(217,72,1)'],\n",
       "                             [0.875, 'rgb(166,54,3)'], [1.0, 'rgb(127,39,4)']],\n",
       "              'hovertemplate': '<b>count: %{z}</b><br>truth: %{y}<br>predicted: %{x}<extra></extra>',\n",
       "              'opacity': 0.25,\n",
       "              'type': 'heatmap',\n",
       "              'uid': '22f7f4c0-6691-41e5-98d9-46b8b33fc71c',\n",
       "              'z': array([[ 36,   0],\n",
       "                          [229, 108]], dtype=int64),\n",
       "              'zmax': 229,\n",
       "              'zmin': 0}],\n",
       "    'layout': {'clickmode': 'event',\n",
       "               'margin': {'b': 0, 'l': 0, 'r': 0, 't': 30},\n",
       "               'template': '...',\n",
       "               'title': {},\n",
       "               'xaxis': {'constrain': 'domain',\n",
       "                         'range': [-0.5, 1.5],\n",
       "                         'tickmode': 'array',\n",
       "                         'ticktext': [human, (none)],\n",
       "                         'tickvals': array([0, 1])},\n",
       "               'yaxis': {'constrain': 'domain',\n",
       "                         'range': [-0.5, 1.5],\n",
       "                         'scaleanchor': 'x',\n",
       "                         'scaleratio': 1,\n",
       "                         'tickmode': 'array',\n",
       "                         'ticktext': array(['(none)', 'human'], dtype=object),\n",
       "                         'tickvals': array([0, 1])}}\n",
       "})"
      ]
     },
     "metadata": {},
     "output_type": "display_data"
    },
    {
     "name": "stdout",
     "output_type": "stream",
     "text": [
      "\t\t########## 0.1 IoU ##########\n",
      "              precision    recall  f1-score   support\n",
      "\n",
      "       human       0.89      0.70      0.78       337\n",
      "\n",
      "   micro avg       0.89      0.70      0.78       337\n",
      "   macro avg       0.89      0.70      0.78       337\n",
      "weighted avg       0.89      0.70      0.78       337\n",
      "\n"
     ]
    },
    {
     "data": {
      "text/plain": []
     },
     "metadata": {},
     "output_type": "display_data"
    },
    {
     "data": {
      "text/plain": []
     },
     "metadata": {},
     "output_type": "display_data"
    },
    {
     "data": {
      "application/vnd.jupyter.widget-view+json": {
       "model_id": "66e48010aba94b769c19d8f15dd339ff",
       "version_major": 2,
       "version_minor": 0
      },
      "text/plain": [
       "FigureWidget({\n",
       "    'data': [{'mode': 'markers',\n",
       "              'opacity': 0.1,\n",
       "              'type': 'scatter',\n",
       "              'uid': '8a8596a5-6f11-4856-8acd-50ea36f617ab',\n",
       "              'x': array([0, 1, 0, 1]),\n",
       "              'y': array([0, 0, 1, 1])},\n",
       "             {'colorscale': [[0.0, 'rgb(255,245,235)'], [0.125,\n",
       "                             'rgb(254,230,206)'], [0.25, 'rgb(253,208,162)'],\n",
       "                             [0.375, 'rgb(253,174,107)'], [0.5, 'rgb(253,141,60)'],\n",
       "                             [0.625, 'rgb(241,105,19)'], [0.75, 'rgb(217,72,1)'],\n",
       "                             [0.875, 'rgb(166,54,3)'], [1.0, 'rgb(127,39,4)']],\n",
       "              'hoverinfo': 'skip',\n",
       "              'showscale': False,\n",
       "              'type': 'heatmap',\n",
       "              'uid': '37115336-5227-40b9-9629-e4d1187dcc10',\n",
       "              'z': array([[ 30,   0],\n",
       "                          [235, 102]], dtype=int64),\n",
       "              'zmax': 235,\n",
       "              'zmin': 0},\n",
       "             {'colorbar': {'len': 1, 'lenmode': 'fraction'},\n",
       "              'colorscale': [[0.0, 'rgb(255,245,235)'], [0.125,\n",
       "                             'rgb(254,230,206)'], [0.25, 'rgb(253,208,162)'],\n",
       "                             [0.375, 'rgb(253,174,107)'], [0.5, 'rgb(253,141,60)'],\n",
       "                             [0.625, 'rgb(241,105,19)'], [0.75, 'rgb(217,72,1)'],\n",
       "                             [0.875, 'rgb(166,54,3)'], [1.0, 'rgb(127,39,4)']],\n",
       "              'hovertemplate': '<b>count: %{z}</b><br>truth: %{y}<br>predicted: %{x}<extra></extra>',\n",
       "              'opacity': 0.25,\n",
       "              'type': 'heatmap',\n",
       "              'uid': '30fb1516-50e0-4fc7-a67a-24c0855bb347',\n",
       "              'z': array([[ 30,   0],\n",
       "                          [235, 102]], dtype=int64),\n",
       "              'zmax': 235,\n",
       "              'zmin': 0}],\n",
       "    'layout': {'clickmode': 'event',\n",
       "               'margin': {'b': 0, 'l': 0, 'r': 0, 't': 30},\n",
       "               'template': '...',\n",
       "               'title': {},\n",
       "               'xaxis': {'constrain': 'domain',\n",
       "                         'range': [-0.5, 1.5],\n",
       "                         'tickmode': 'array',\n",
       "                         'ticktext': [human, (none)],\n",
       "                         'tickvals': array([0, 1])},\n",
       "               'yaxis': {'constrain': 'domain',\n",
       "                         'range': [-0.5, 1.5],\n",
       "                         'scaleanchor': 'x',\n",
       "                         'scaleratio': 1,\n",
       "                         'tickmode': 'array',\n",
       "                         'ticktext': array(['(none)', 'human'], dtype=object),\n",
       "                         'tickvals': array([0, 1])}}\n",
       "})"
      ]
     },
     "metadata": {},
     "output_type": "display_data"
    }
   ],
   "source": [
    "print(\"<==========> 100e_16b_auto_1280_02 evaluation <==========>\")\n",
    "results1 = dataset.evaluate_detections(\n",
    "    \"100e_16b_auto_1280_02\",\n",
    "    gt_field=\"detections\",\n",
    "    iou=0.5\n",
    ")\n",
    "results2 = dataset.evaluate_detections(\n",
    "    \"100e_16b_auto_1280_02\",\n",
    "    gt_field=\"detections\",\n",
    "    iou=0.1\n",
    ")\n",
    "plot1 = results1.plot_confusion_matrix()\n",
    "plot2 = results2.plot_confusion_matrix()\n",
    "\n",
    "print(\"\\t\\t########## 0.5 IoU ##########\")\n",
    "results1.print_report()\n",
    "plot1.show()\n",
    "print(\"\\t\\t########## 0.1 IoU ##########\")\n",
    "results2.print_report()\n",
    "plot2.show()"
   ]
  },
  {
   "cell_type": "code",
   "execution_count": 12,
   "id": "99862f65",
   "metadata": {},
   "outputs": [],
   "source": [
    "dataset = fo.load_dataset('Test Images')\n",
    "fouc.add_coco_labels(\n",
    "    dataset,\n",
    "    'yolov8n_100e_0p_16b_auto_512_07_640_20',\n",
    "    'runs/yolov8n_100e_0p_16b_auto_512_07/sahi/640_20/result.json',\n",
    "    ['human']\n",
    ")\n",
    "fouc.add_coco_labels(\n",
    "    dataset,\n",
    "    'yolov8n_100e_0p_16b_auto_512_07_320_30',\n",
    "    'runs/yolov8n_100e_0p_16b_auto_512_07/sahi/320_30/result.json',\n",
    "    ['human']\n",
    ")"
   ]
  },
  {
   "cell_type": "code",
   "execution_count": 6,
   "id": "c119ff65",
   "metadata": {},
   "outputs": [
    {
     "name": "stdout",
     "output_type": "stream",
     "text": [
      "<==========> yolov8n_100e_0p_32b_auto_640_06_640_20 <==========>\n",
      "Evaluating detections...\n",
      " 100% |█████████████████| 101/101 [931.3ms elapsed, 0s remaining, 108.5 samples/s]      \n",
      "Performing IoU sweep...\n",
      " 100% |█████████████████| 101/101 [906.6ms elapsed, 0s remaining, 111.4 samples/s]      \n",
      "              precision    recall  f1-score   support\n",
      "\n",
      "       human       0.75      0.85      0.80       337\n",
      "\n",
      "   micro avg       0.75      0.85      0.80       337\n",
      "   macro avg       0.75      0.85      0.80       337\n",
      "weighted avg       0.75      0.85      0.80       337\n",
      "\n",
      "mAP50: 0.8098000585087199\n"
     ]
    }
   ],
   "source": [
    "print(\"<==========> yolov8n_100e_0p_32b_auto_640_06_640_20 <==========>\")\n",
    "results1 = dataset.evaluate_detections(\n",
    "    \"yolov8n_100e_0p_32b_auto_640_06_640_20\",\n",
    "    gt_field=\"detections\",\n",
    "    iou=0.1,\n",
    "    compute_mAP=True,\n",
    "    iou_threshs=[0.1]\n",
    ")\n",
    "results1.print_report()\n",
    "print(\"mAP50:\", results1.mAP())\n"
   ]
  },
  {
   "cell_type": "code",
   "execution_count": 7,
   "id": "f7475688",
   "metadata": {},
   "outputs": [
    {
     "name": "stdout",
     "output_type": "stream",
     "text": [
      "<==========> yolov8n_100e_0p_16b_auto_640_06_640_20 <==========>\n",
      "Evaluating detections...\n",
      " 100% |█████████████████| 101/101 [844.3ms elapsed, 0s remaining, 119.6 samples/s]      \n",
      "Performing IoU sweep...\n",
      " 100% |█████████████████| 101/101 [758.5ms elapsed, 0s remaining, 133.2 samples/s]      \n",
      "              precision    recall  f1-score   support\n",
      "\n",
      "       human       0.80      0.89      0.84       337\n",
      "\n",
      "   micro avg       0.80      0.89      0.84       337\n",
      "   macro avg       0.80      0.89      0.84       337\n",
      "weighted avg       0.80      0.89      0.84       337\n",
      "\n",
      "mAP50: 0.8433606969185848\n"
     ]
    }
   ],
   "source": [
    "print(\"<==========> yolov8n_100e_0p_16b_auto_640_06_640_20 <==========>\")\n",
    "results1 = dataset.evaluate_detections(\n",
    "    \"yolov8n_100e_0p_16b_auto_640_06_640_20\",\n",
    "    gt_field=\"detections\",\n",
    "    iou=0.1,\n",
    "    compute_mAP=True,\n",
    "    iou_threshs=[0.1]\n",
    ")\n",
    "results1.print_report()\n",
    "print(\"mAP50:\", results1.mAP())\n"
   ]
  },
  {
   "cell_type": "code",
   "execution_count": 11,
   "id": "8d44e89a",
   "metadata": {},
   "outputs": [
    {
     "name": "stdout",
     "output_type": "stream",
     "text": [
      "<==========> yolov8n_100e_0p_16b_auto_640_06_640_30 <==========>\n",
      "Evaluating detections...\n",
      " 100% |█████████████████| 101/101 [889.1ms elapsed, 0s remaining, 113.6 samples/s]      \n",
      "Performing IoU sweep...\n",
      " 100% |█████████████████| 101/101 [774.3ms elapsed, 0s remaining, 130.4 samples/s]      \n",
      "              precision    recall  f1-score   support\n",
      "\n",
      "       human       0.78      0.87      0.82       337\n",
      "\n",
      "   micro avg       0.78      0.87      0.82       337\n",
      "   macro avg       0.78      0.87      0.82       337\n",
      "weighted avg       0.78      0.87      0.82       337\n",
      "\n",
      "mAP10: 0.8257820102353587\n"
     ]
    }
   ],
   "source": [
    "print(\"<==========> yolov8n_100e_0p_16b_auto_640_06_640_30 <==========>\")\n",
    "results1 = dataset.evaluate_detections(\n",
    "    \"yolov8n_100e_0p_16b_auto_640_06_640_30\",\n",
    "    gt_field=\"detections\",\n",
    "    iou=0.1,\n",
    "    compute_mAP=True,\n",
    "    iou_threshs=[0.1]\n",
    ")\n",
    "results1.print_report()\n",
    "print(\"mAP10:\", results1.mAP())\n"
   ]
  },
  {
   "cell_type": "code",
   "execution_count": 9,
   "id": "ea9a26fc",
   "metadata": {},
   "outputs": [
    {
     "name": "stdout",
     "output_type": "stream",
     "text": [
      "<==========> yolov8n_100e_0p_16b_auto_640_06_640_15 <==========>\n",
      "Evaluating detections...\n",
      " 100% |█████████████████| 101/101 [877.0ms elapsed, 0s remaining, 115.2 samples/s]      \n",
      "Performing IoU sweep...\n",
      " 100% |█████████████████| 101/101 [778.1ms elapsed, 0s remaining, 129.8 samples/s]      \n",
      "              precision    recall  f1-score   support\n",
      "\n",
      "       human       0.80      0.86      0.83       337\n",
      "\n",
      "   micro avg       0.80      0.86      0.83       337\n",
      "   macro avg       0.80      0.86      0.83       337\n",
      "weighted avg       0.80      0.86      0.83       337\n",
      "\n",
      "mAP10: 0.8267457224167264\n"
     ]
    }
   ],
   "source": [
    "print(\"<==========> yolov8n_100e_0p_16b_auto_640_06_640_15 <==========>\")\n",
    "results1 = dataset.evaluate_detections(\n",
    "    \"yolov8n_100e_0p_16b_auto_640_06_640_15\",\n",
    "    gt_field=\"detections\",\n",
    "    iou=0.1,\n",
    "    compute_mAP=True,\n",
    "    iou_threshs=[0.1]\n",
    ")\n",
    "results1.print_report()\n",
    "print(\"mAP10:\", results1.mAP())\n"
   ]
  },
  {
   "cell_type": "code",
   "execution_count": 13,
   "id": "0a83da39",
   "metadata": {},
   "outputs": [
    {
     "name": "stdout",
     "output_type": "stream",
     "text": [
      "<==========> yolov8n_100e_0p_16b_auto_512_07 <==========>\n",
      "Evaluating detections...\n",
      " 100% |█████████████████| 101/101 [874.4ms elapsed, 0s remaining, 115.5 samples/s]      \n",
      "Performing IoU sweep...\n",
      " 100% |█████████████████| 101/101 [725.3ms elapsed, 0s remaining, 139.3 samples/s]      \n",
      "              precision    recall  f1-score   support\n",
      "\n",
      "       human       0.76      0.88      0.82       337\n",
      "\n",
      "   micro avg       0.76      0.88      0.82       337\n",
      "   macro avg       0.76      0.88      0.82       337\n",
      "weighted avg       0.76      0.88      0.82       337\n",
      "\n",
      "mAP10: 0.8477590885455664\n",
      "<==========> yolov8n_100e_0p_16b_auto_320_30 <==========>\n",
      "Evaluating detections...\n",
      " 100% |█████████████████| 101/101 [872.1ms elapsed, 0s remaining, 115.8 samples/s]      \n",
      "Performing IoU sweep...\n",
      " 100% |█████████████████| 101/101 [888.8ms elapsed, 0s remaining, 113.6 samples/s]      \n",
      "              precision    recall  f1-score   support\n",
      "\n",
      "       human       0.58      0.90      0.70       337\n",
      "\n",
      "   micro avg       0.58      0.90      0.70       337\n",
      "   macro avg       0.58      0.90      0.70       337\n",
      "weighted avg       0.58      0.90      0.70       337\n",
      "\n",
      "mAP10: 0.8370062390485241\n"
     ]
    }
   ],
   "source": [
    "print(\"<==========> yolov8n_100e_0p_16b_auto_512_07 <==========>\")\n",
    "results1 = dataset.evaluate_detections(\n",
    "    \"yolov8n_100e_0p_16b_auto_512_07_640_20\",\n",
    "    gt_field=\"detections\",\n",
    "    iou=0.1,\n",
    "    compute_mAP=True,\n",
    "    iou_threshs=[0.1]\n",
    ")\n",
    "results1.print_report()\n",
    "print(\"mAP10:\", results1.mAP())\n",
    "print(\"<==========> yolov8n_100e_0p_16b_auto_320_30 <==========>\")\n",
    "results1 = dataset.evaluate_detections(\n",
    "    \"yolov8n_100e_0p_16b_auto_512_07_320_30\",\n",
    "    gt_field=\"detections\",\n",
    "    iou=0.1,\n",
    "    compute_mAP=True,\n",
    "    iou_threshs=[0.1]\n",
    ")\n",
    "results1.print_report()\n",
    "print(\"mAP10:\", results1.mAP())\n"
   ]
  }
 ],
 "metadata": {
  "kernelspec": {
   "display_name": "Python 3 (ipykernel)",
   "language": "python",
   "name": "python3"
  },
  "language_info": {
   "codemirror_mode": {
    "name": "ipython",
    "version": 3
   },
   "file_extension": ".py",
   "mimetype": "text/x-python",
   "name": "python",
   "nbconvert_exporter": "python",
   "pygments_lexer": "ipython3",
   "version": "3.8.18"
  }
 },
 "nbformat": 4,
 "nbformat_minor": 5
}
